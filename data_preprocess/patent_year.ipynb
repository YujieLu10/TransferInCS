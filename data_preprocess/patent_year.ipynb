{
 "cells": [
  {
   "cell_type": "code",
   "execution_count": 19,
   "id": "raising-private",
   "metadata": {},
   "outputs": [
    {
     "data": {
      "text/html": [
       "<div>\n",
       "<style scoped>\n",
       "    .dataframe tbody tr th:only-of-type {\n",
       "        vertical-align: middle;\n",
       "    }\n",
       "\n",
       "    .dataframe tbody tr th {\n",
       "        vertical-align: top;\n",
       "    }\n",
       "\n",
       "    .dataframe thead th {\n",
       "        text-align: right;\n",
       "    }\n",
       "</style>\n",
       "<table border=\"1\" class=\"dataframe\">\n",
       "  <thead>\n",
       "    <tr style=\"text-align: right;\">\n",
       "      <th></th>\n",
       "      <th>Unnamed: 0</th>\n",
       "      <th>patent_id</th>\n",
       "      <th>inventor_id</th>\n",
       "      <th>location_id</th>\n",
       "      <th>conf_id</th>\n",
       "    </tr>\n",
       "  </thead>\n",
       "  <tbody>\n",
       "    <tr>\n",
       "      <th>0</th>\n",
       "      <td>0</td>\n",
       "      <td>6938070</td>\n",
       "      <td>6938070-1</td>\n",
       "      <td>643d3081-ce8c-4126-bbbd...</td>\n",
       "      <td>UIST</td>\n",
       "    </tr>\n",
       "    <tr>\n",
       "      <th>1</th>\n",
       "      <td>1</td>\n",
       "      <td>9361603</td>\n",
       "      <td>6131116-10</td>\n",
       "      <td>a80b27d1-29c7-4841-8f3...</td>\n",
       "      <td>UIST</td>\n",
       "    </tr>\n",
       "    <tr>\n",
       "      <th>2</th>\n",
       "      <td>2</td>\n",
       "      <td>9747266</td>\n",
       "      <td>7831558-4</td>\n",
       "      <td>6f3b1f3d-3127-47ff-87df...</td>\n",
       "      <td>UIST</td>\n",
       "    </tr>\n",
       "    <tr>\n",
       "      <th>3</th>\n",
       "      <td>3</td>\n",
       "      <td>8812702</td>\n",
       "      <td>6131116-2</td>\n",
       "      <td>a80b27d1-29c7-4841-8f34...</td>\n",
       "      <td>UIST</td>\n",
       "    </tr>\n",
       "    <tr>\n",
       "      <th>4</th>\n",
       "      <td>4</td>\n",
       "      <td>9515966</td>\n",
       "      <td>9515966-1</td>\n",
       "      <td>7bbb5286-b6d0-49d7-96eb...</td>\n",
       "      <td>UIST</td>\n",
       "    </tr>\n",
       "  </tbody>\n",
       "</table>\n",
       "</div>"
      ],
      "text/plain": [
       "   Unnamed: 0  patent_id inventor_id                 location_id conf_id\n",
       "0           0    6938070   6938070-1  643d3081-ce8c-4126-bbbd...    UIST\n",
       "1           1    9361603  6131116-10   a80b27d1-29c7-4841-8f3...    UIST\n",
       "2           2    9747266   7831558-4  6f3b1f3d-3127-47ff-87df...    UIST\n",
       "3           3    8812702   6131116-2  a80b27d1-29c7-4841-8f34...    UIST\n",
       "4           4    9515966   9515966-1  7bbb5286-b6d0-49d7-96eb...    UIST"
      ]
     },
     "execution_count": 19,
     "metadata": {},
     "output_type": "execute_result"
    }
   ],
   "source": [
    "#------------ paper year -------------# data source:/data/pcsdata/selected_MAG_metadata/paperyear.tsv\n",
    "from itertools import chain\n",
    "import pandas as pd\n",
    "import os\n",
    "\n",
    "HCI_ori_pd = None\n",
    "for path,directory,files in os.walk('../data/patentinventors/'):\n",
    "    # here, we have conf_id name of CHI, CSCW, UBI, UIST\n",
    "    for file in files:\n",
    "        ori_pd = pd.read_csv(os.path.join(path, file))\n",
    "        conf_id = file[file.index('_') + 1:-4]\n",
    "        # add conf_id property to patent data\n",
    "        ori_pd['conf_id'] = conf_id\n",
    "        if HCI_ori_pd is None:\n",
    "            HCI_ori_pd = ori_pd\n",
    "        else:\n",
    "            HCI_ori_pd = pd.concat([HCI_ori_pd, ori_pd],axis=0)\n",
    "HCI_ori_pd.head(5)"
   ]
  },
  {
   "cell_type": "code",
   "execution_count": null,
   "id": "restricted-regression",
   "metadata": {},
   "outputs": [],
   "source": [
    "# extract patent year data\n",
    "print(\"start load\")\n",
    "patent_pd = pd.read_csv('patent.tsv',sep='\\t')\n",
    "# merge ori_conf_pd_map\n",
    "print(\"start merge\")\n",
    "HCI_ori_pd = HCI_ori_pd.merge(patent_pd, left_on='patent_id', right_on='id')\n",
    "HCI_ori_pd.to_csv('patent_year_inventor.tsv')"
   ]
  }
 ],
 "metadata": {
  "kernelspec": {
   "display_name": "Python 3",
   "language": "python",
   "name": "python3"
  },
  "language_info": {
   "codemirror_mode": {
    "name": "ipython",
    "version": 3
   },
   "file_extension": ".py",
   "mimetype": "text/x-python",
   "name": "python",
   "nbconvert_exporter": "python",
   "pygments_lexer": "ipython3",
   "version": "3.8.6"
  }
 },
 "nbformat": 4,
 "nbformat_minor": 5
}
