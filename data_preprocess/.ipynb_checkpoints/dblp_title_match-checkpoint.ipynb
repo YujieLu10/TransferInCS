{
 "cells": [
  {
   "cell_type": "code",
   "execution_count": null,
   "id": "heavy-rings",
   "metadata": {},
   "outputs": [],
   "source": [
    "#------------ dblp title match -------------#\n",
    "# -*- coding: utf-8 -*-\n",
    "import sys\n",
    "reload(sys)\n",
    "sys.setdefaultencoding('utf-8')\n",
    "import pandas as pd\n",
    "import json\n",
    "\n",
    "results_dblp_title_match = {'result_CHI':[], 'result_UBI':[], 'result_CSCW':[], 'result_UIST':[]}\n",
    "conf_name_map = {1163450153:'CHI', 1195049314:'CSCW', 1171345118:'UBI', 1166315290:'UIST'}\n",
    "paper = []\n",
    "for line in open('dblp_papers_with_s2_abstracts.jsonlist', 'r'):\n",
    "    paper.append(json.loads(line))\n",
    "df = pd.DataFrame(paper)\n",
    "\n",
    "data_papers_HCI = {'data_CHI':[], 'data_UBI', 'data_CSCW':[], 'data_UIST':[]}\n",
    "for conf_id, conf_name in conf_name_map.items():\n",
    "    data_papers_HCI['data_{}'.format(conf_name)] = df[(df['dblp_venue'] == conf_name)][['dblp_title', 'dblp_venue', 's2_abstract']]\n",
    "    data_papers_HCI['data_{}'.format(conf_name)]['papertitle'] = [title.encode('utf-8').strip().lower() for title in data_papers_HCI['data_{}'.format(conf_name)]['dblp_title']]\n",
    "    data_papers_HCI['data_{}'.format(conf_name)]['papertitle'].to_csv('dblp_{}_title.tsv'.format(conf_name))\n",
    "    data_papers_HCI['data_{}'.format(conf_name)]['s2_abstract'].to_csv('dblp_{}_abstract.tsv'.format(conf_name))"
   ]
  },
  {
   "cell_type": "code",
   "execution_count": null,
   "id": "convertible-fisher",
   "metadata": {},
   "outputs": [],
   "source": [
    "# -*- coding: utf-8 -*-\n",
    "import sys\n",
    "reload(sys)\n",
    "sys.setdefaultencoding('utf-8')\n",
    "import pandas as pd\n",
    "\n",
    "for conf_name in ['CHI', 'CSCW', 'UBI', 'UIST']:\n",
    "    hci_tilte = pd.read_csv(\"../data/papertitle_{}.tsv\".format(conf_name), sep = \",\")\n",
    "\n",
    "    hci_tilte['papertitle'] = [title.encode('utf-8').strip().lower() for title in hci_tilte['title']]\n",
    "\n",
    "    from fuzzywuzzy import process\n",
    "\n",
    "    # matched = 'Technology heirlooms?: considerations fo passing down and inheriting digital materials.'\n",
    "    # print(papers['papertitle'].iloc[0])\n",
    "    # highest = process.extractOne(str(papers['papertitle'].iloc[0]), hci_title['papertitle'])\n",
    "    # print(highest)\n",
    "\n",
    "    result = []\n",
    "    with open('dblp_{}_title.tsv'.format(conf_name), \"r\") as title_f:\n",
    "        for line in title_f:\n",
    "            paper_idx = line[0:line.index(',')]\n",
    "            paper_title = line[line.index(',') + 1:]\n",
    "            highest = process.extractOne(paper_title, hci_tilte['papertitle'])\n",
    "            print(highest)\n",
    "            try:\n",
    "                output = [highest[0], highest[1], highest[2], paper_idx]\n",
    "                result.append(list(output))\n",
    "            except:\n",
    "                print(\">>> error\")\n",
    "        result_pd = pd.DataFrame(data=result, columns=['papertitle', 'score', 'paperidx', 'dblppaperidx'])\n",
    "        result_pd.to_csv('matched_{}.tsv'.format(conf_name))\n"
   ]
  }
 ],
 "metadata": {
  "kernelspec": {
   "display_name": "Python 3",
   "language": "python",
   "name": "python3"
  },
  "language_info": {
   "codemirror_mode": {
    "name": "ipython",
    "version": 3
   },
   "file_extension": ".py",
   "mimetype": "text/x-python",
   "name": "python",
   "nbconvert_exporter": "python",
   "pygments_lexer": "ipython3",
   "version": "3.8.6"
  }
 },
 "nbformat": 4,
 "nbformat_minor": 5
}
