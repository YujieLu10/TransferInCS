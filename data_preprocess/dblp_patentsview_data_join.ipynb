{
 "cells": [
  {
   "cell_type": "code",
   "execution_count": 6,
   "metadata": {},
   "outputs": [
    {
     "name": "stdout",
     "output_type": "stream",
     "text": [
      ">>> loading done\n",
      "      paperid    authorid  authororder\n",
      "0   100000002  1885406747            2\n",
      "1   100000002  2105522006            1\n",
      "2  1000000047  2400277081            1\n",
      "3  1000000056  2405201566            1\n",
      "4  1000000079  2397301388            5\n",
      "1885406747\n",
      "2105522006\n",
      "2400277081\n",
      "2405201566\n",
      "2397301388\n",
      "2405916894\n",
      "2659645928\n",
      "2674117707\n",
      "2674523713\n",
      "2583489852\n",
      "2616449249\n",
      "1415336870\n",
      "2572962000\n",
      "2310084232\n",
      "2408684254\n",
      "989598072\n",
      "2398577680\n",
      "360630490\n",
      "2778570849\n",
      "2892019453\n",
      "959877652\n",
      "2396527392\n",
      "2394624696\n",
      "2394626467\n",
      "2397339139\n",
      "2398452707\n",
      "2404024066\n",
      "2699439521\n",
      "1017253500\n",
      "2700042559\n",
      "2398664451\n",
      "2281931889\n",
      "2394715721\n",
      "2723576469\n",
      "2407675759\n",
      "994692229\n",
      "2028233839\n",
      "2028295122\n",
      "2313488450\n",
      "2669303087\n",
      "2609705434\n",
      "1022026661\n",
      "1039591755\n",
      "2120085798\n",
      "2155779431\n",
      "2171483546\n",
      "1582112410\n",
      "2292368771\n",
      "1013328597\n",
      "860410545\n",
      "2428858218\n",
      "2398645261\n",
      "2407554939\n",
      "2656179532\n",
      "2660871804\n",
      "2695959845\n",
      "2700836454\n",
      "2633277741\n",
      "2696589131\n",
      "2703462801\n",
      "2643168331\n",
      "2635886963\n",
      "2685066989\n",
      "2715488067\n",
      "52274036\n",
      "52274036\n",
      "2320362078\n",
      "2334220022\n",
      "2401310611\n",
      "2641573699\n",
      "1160760134\n",
      "2527419065\n",
      "2406634545\n",
      "2696131247\n",
      "1338084169\n",
      "2740087025\n",
      "2665823729\n",
      "2654393416\n",
      "979925607\n",
      "984945054\n",
      "2099011137\n",
      "2127792625\n",
      "2151965185\n",
      "2154592896\n",
      "2701846260\n",
      "672876013\n",
      "2730317195\n",
      "2575356436\n",
      "2660371473\n",
      "2399369779\n",
      "2496449979\n",
      "1994110832\n",
      "2658299319\n",
      "2503270867\n",
      "1986086823\n",
      "2044840034\n",
      "2581051316\n",
      "743105435\n",
      "2408428297\n",
      "380455106\n"
     ]
    }
   ],
   "source": [
    "from itertools import chain\n",
    "import pandas as pd\n",
    "\n",
    "ori_paperauthor = pd.read_csv('/data/pcs/paperauthororder.tsv', nrows=100, delimiter=\"\\t\", encoding='unicode_escape')\n",
    "print(\">>> loading done\")"
   ]
  },
  {
   "cell_type": "code",
   "execution_count": 3,
   "metadata": {},
   "outputs": [
    {
     "name": "stderr",
     "output_type": "stream",
     "text": [
      "/root/anaconda3/lib/python3.7/site-packages/IPython/core/interactiveshell.py:2785: DtypeWarning: Columns (0) have mixed types. Specify dtype option on import or set low_memory=False.\n",
      "  interactivity=interactivity, compiler=compiler, result=result)\n"
     ]
    },
    {
     "name": "stdout",
     "output_type": "stream",
     "text": [
      ">>> loading done\n"
     ]
    }
   ],
   "source": [
    "ori_authoridname = pd.read_csv('/data/pcs/authoridname_raw.tsv', delimiter=\"\\t\", encoding='unicode_escape')\n",
    "print(\">>> loading done\")"
   ]
  },
  {
   "cell_type": "code",
   "execution_count": 4,
   "metadata": {},
   "outputs": [],
   "source": [
    "# ori_papercitations = pd.read_csv('/data/pcs/papercitations.tsv', delimiter=\"\\t\", encoding='unicode_escape')\n",
    "# ori_paperyear = pd.read_csv('/data/pcs/paperyear.tsv', error_bad_lines=False, skiprows=1, nrows=100)"
   ]
  },
  {
   "cell_type": "code",
   "execution_count": 5,
   "metadata": {},
   "outputs": [
    {
     "name": "stdout",
     "output_type": "stream",
     "text": [
      ">>> paperyear open\n"
     ]
    }
   ],
   "source": [
    "paperyear_map = {} \n",
    "paper_by_year = [0] * 401\n",
    "citation_by_year = [0] * 401\n",
    "\n",
    "ori_file = open('/data/pcs/paperyear.tsv')\n",
    "iter_f = iter(ori_file)\n",
    "first_line = True\n",
    "cnt = 0\n",
    "print(\">>> paperyear open\")"
   ]
  },
  {
   "cell_type": "code",
   "execution_count": 6,
   "metadata": {},
   "outputs": [
    {
     "name": "stdout",
     "output_type": "stream",
     "text": [
      ">>> paperyear map built\n"
     ]
    }
   ],
   "source": [
    "for row in iter_f:\n",
    "    if first_line:\n",
    "        first_line = False\n",
    "        continue\n",
    "    paperid = str(row).split()[0] # paperid\n",
    "    paperyear = str(row).split()[1]\n",
    "    \n",
    "    if paperyear not in paperyear_map.keys():\n",
    "        paperyear_map[paperyear] = []    \n",
    "    paperyear_map[paperyear].append(paperid)\n",
    "print(\">>> paperyear map built\")"
   ]
  },
  {
   "cell_type": "code",
   "execution_count": 1,
   "metadata": {},
   "outputs": [
    {
     "name": "stdout",
     "output_type": "stream",
     "text": [
      "error\n"
     ]
    }
   ],
   "source": [
    "resultf = open(\"author_popularity.txt\", \"a\")\n",
    "# no user if they do not exist in paperauhor_order.tsv\n",
    "print(\">>> start iter authorid\")\n",
    "row_cnt = 0\n",
    "for author_row in ori_authoridname.iterrows():\n",
    "    row_cnt += 1\n",
    "    if row_cnt > 2:\n",
    "        break\n",
    "    try:\n",
    "        #authorid_raw = str(author_row[1]).split('\\\\t')[1].split(\"    \")[1]\n",
    "        authorid_raw = str(author_row[1]).split('\\n')[0].split()[1]\n",
    "        # TODO:sort by autorid\n",
    "        current_paperlist = []\n",
    "        # current_citinglist = []\n",
    "        cnt = 0\n",
    "        print(\">>>\")\n",
    "        for paper_row in ori_paperauthor.iterrows():\n",
    "            cnt += 1\n",
    "            authorid = str(paper_row[1]).split('\\n')[1].split()[1]\n",
    "            print(authorid)\n",
    "            if cnt > 5:\n",
    "                break\n",
    "            if authorid == authorid_raw:\n",
    "                paperid = str(paper_row[1]).split('\\n')[0].split()[1]\n",
    "                current_paperlist.append(paperid)\n",
    "            if cnt == len(ori_paperauthor):\n",
    "                # find citing paper list\n",
    "                # for citation_row in ori_papercitations.iterrows():\n",
    "                # citing_paperid = str(citation_row[1]).split('\\n')[0].split()[1]\n",
    "                # cited_paperid = str(citation_row[1]).split('\\n')[1].split()[1]\n",
    "                #     if cited_paperid in current_paperlist:\n",
    "                #         current_citinglist.append(citing_paperid)\n",
    "                # find year\n",
    "                for year, paper_list in paperyear_map.items():\n",
    "                    paper_by_year[int(year) - 1800] += len([i for i in current_paperlist if i in paper_list])\n",
    "                    # citation_by_year[int(year) - 1800] += len([i for i in current_citinglist if i in paper_list])\n",
    "                # write author paper_by_year vector\n",
    "                resultf.write(authorid_raw + '\\t')\n",
    "                resultf.write(','.join([str(elem) for elem in paper_by_year]))\n",
    "                resultf.write('\\t' + ','.join([str(elem) for elem in citation_by_year]))\n",
    "                resultf.write('\\n')\n",
    "                # initializing for next author\n",
    "                paper_by_year = [0] * 401\n",
    "                citation_by_year = [0] * 401\n",
    "                current_paperlist = []\n",
    "                # current_citinglist = []\n",
    "    except:\n",
    "        print(\">>\")\n"
   ]
  },
  {
   "cell_type": "code",
   "execution_count": null,
   "metadata": {},
   "outputs": [],
   "source": []
  },
  {
   "cell_type": "code",
   "execution_count": null,
   "metadata": {},
   "outputs": [],
   "source": []
  }
 ],
 "metadata": {
  "kernelspec": {
   "display_name": "Python 3",
   "language": "python",
   "name": "python3"
  },
  "language_info": {
   "codemirror_mode": {
    "name": "ipython",
    "version": 3
   },
   "file_extension": ".py",
   "mimetype": "text/x-python",
   "name": "python",
   "nbconvert_exporter": "python",
   "pygments_lexer": "ipython3",
   "version": "3.7.0"
  }
 },
 "nbformat": 4,
 "nbformat_minor": 2
}
