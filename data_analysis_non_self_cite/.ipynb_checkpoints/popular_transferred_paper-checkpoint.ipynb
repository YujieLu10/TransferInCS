{
 "cells": [
  {
   "cell_type": "code",
   "execution_count": null,
   "id": "median-landing",
   "metadata": {},
   "outputs": [],
   "source": [
    "import os\n",
    "import pandas as pd\n",
    "\n",
    "CHI_pd = pd.read_csv(\"papercitations_CHI.tsv\", sep=',')\n",
    "CSCW_pd = pd.read_csv(\"papercitations_CSCW.tsv\", sep=',')\n",
    "UIST_pd = pd.read_csv(\"papercitations_UIST.tsv\", sep=',')\n",
    "UBI_pd = pd.read_csv(\"papercitations_UBI.tsv\", sep=',')\n",
    "\n",
    "CHI_pcs_pd = pd.read_csv(\"../papercitation2science_extracted/papercitationscience_result_CHI.tsv\", sep=',')\n",
    "CSCW_pcs_pd = pd.read_csv(\"../papercitation2science_extracted/papercitationscience_result_CSCW.tsv\", sep=',')\n",
    "UIST_pcs_pd = pd.read_csv(\"../papercitation2science_extracted/papercitationscience_result_UIST.tsv\", sep=',')\n",
    "UBI_pcs_pd = pd.read_csv(\"../papercitation2science_extracted/papercitationscience_result_UBI.tsv\", sep=',')\n",
    "pcs_pd_list = [CHI_pcs_pd, CSCW_pcs_pd, UIST_pcs_pd, UBI_pcs_pd]\n",
    "pd_list = [CHI_pd, CSCW_pd, UIST_pd, UBI_pd]\n",
    "\n",
    "for idx in range(4):\n",
    "    citation_pd = pd_list[idx]\n",
    "    cited_paper_num = {}\n",
    "    cited_patent_num = {}\n",
    "    for row in citation_pd.iterrows():\n",
    "        citing_paperid_str = str(row).split()[5] # paperid\n",
    "        cited_paperid_str = str(row).split()[7]\n",
    "        if cited_paperid_str in cited_paper_num.keys():\n",
    "            cited_paper_num[cited_paperid_str] += 1\n",
    "        else:\n",
    "            cited_paper_num[cited_paperid_str] = 1\n",
    "    result = []\n",
    "    paperid_list = []\n",
    "    # print(cited_paper_num)\n",
    "    pcs_pd = pcs_pd_list[idx]\n",
    "    for row in pcs_pd.iterrows():\n",
    "        paperid = str(row).split()[9]\n",
    "        patentid = str(row).split()[11]\n",
    "        paperid_list.append(paperid)\n",
    "        if paperid in cited_patent_num.keys():\n",
    "            cited_patent_num[paperid] += 1\n",
    "        else:\n",
    "            cited_patent_num[paperid] = 1\n",
    "    for k, v in cited_paper_num.items():\n",
    "        if k not in cited_patent_num.keys():\n",
    "            cited_patent_num[k] = 0                \n",
    "        result.append(list([k, str(cited_paper_num[k]), str(cited_patent_num[k])]))\n",
    "    result_pd = pd.DataFrame(data=result, columns=['paperid', 'citedbypapers', 'citedbypatents'])\n",
    "    result_pd.to_csv('popular_transferred_paper{}.tsv'.format(idx))\n"
   ]
  }
 ],
 "metadata": {
  "kernelspec": {
   "display_name": "Python 3",
   "language": "python",
   "name": "python3"
  },
  "language_info": {
   "codemirror_mode": {
    "name": "ipython",
    "version": 3
   },
   "file_extension": ".py",
   "mimetype": "text/x-python",
   "name": "python",
   "nbconvert_exporter": "python",
   "pygments_lexer": "ipython3",
   "version": "3.8.6"
  }
 },
 "nbformat": 4,
 "nbformat_minor": 5
}
