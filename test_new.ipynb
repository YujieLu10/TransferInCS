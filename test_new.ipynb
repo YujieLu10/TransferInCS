{
 "cells": [
  {
   "cell_type": "code",
   "execution_count": 15,
   "metadata": {},
   "outputs": [],
   "source": [
    "from itertools import chain\n",
    "import pandas as pd\n",
    "import os\n",
    "\n",
    "HCI_ori_paper_pd = pd.read_csv('newHCIdata/paperinformation_HCI.tsv')\n",
    "HCI_patent_pd = pd.read_csv('newHCIdata/patent_information_HCI.tsv')\n",
    "HCI_papercitationscience_pd = pd.read_csv('data/papercitationscience_result.tsv')\n",
    "\n",
    "HCI_papercitationscience_pd = HCI_papercitationscience_pd[['paperid','patent']]\n",
    "HCI_patent_pd = HCI_patent_pd[['patent_id', 'country', 'date', 'abstract', 'title', 'kind', 'num_claims', 'withdrawn', 'inventor_id', 'inventor_name_first', 'inventor_name_last', 'male_flag', 'attribution_status', 'assignee_id', 'assignee_name_first', 'assignee_name_last', 'organization']]"
   ]
  },
  {
   "cell_type": "code",
   "execution_count": 31,
   "metadata": {},
   "outputs": [
    {
     "name": "stderr",
     "output_type": "stream",
     "text": [
      "/tmp/ipykernel_2804939/2640789341.py:14: FutureWarning: Using short name for 'orient' is deprecated. Only the options: ('dict', list, 'series', 'split', 'records', 'index') will be used in a future version. Use one of the above to silence this warning.\n",
      "  patent_information_dict[patent_id][\"patent_info\"] = HCI_patent_pd.loc[HCI_patent_pd['patent_id']==int(patent_id),['country', 'date', 'abstract', 'title', 'kind', 'num_claims', 'withdrawn', 'assignee_id', 'assignee_name_first', 'assignee_name_last', 'organization']].to_dict('record')\n",
      "/tmp/ipykernel_2804939/2640789341.py:15: FutureWarning: Using short name for 'orient' is deprecated. Only the options: ('dict', list, 'series', 'split', 'records', 'index') will be used in a future version. Use one of the above to silence this warning.\n",
      "  inventor_part = HCI_patent_pd.loc[HCI_patent_pd['patent_id']==int(patent_id), ['inventor_id', 'inventor_name_first', 'inventor_name_last', 'male_flag', 'attribution_status']].to_dict('record')\n",
      "/tmp/ipykernel_2804939/2640789341.py:14: FutureWarning: Using short name for 'orient' is deprecated. Only the options: ('dict', list, 'series', 'split', 'records', 'index') will be used in a future version. Use one of the above to silence this warning.\n",
      "  patent_information_dict[patent_id][\"patent_info\"] = HCI_patent_pd.loc[HCI_patent_pd['patent_id']==int(patent_id),['country', 'date', 'abstract', 'title', 'kind', 'num_claims', 'withdrawn', 'assignee_id', 'assignee_name_first', 'assignee_name_last', 'organization']].to_dict('record')\n",
      "/tmp/ipykernel_2804939/2640789341.py:15: FutureWarning: Using short name for 'orient' is deprecated. Only the options: ('dict', list, 'series', 'split', 'records', 'index') will be used in a future version. Use one of the above to silence this warning.\n",
      "  inventor_part = HCI_patent_pd.loc[HCI_patent_pd['patent_id']==int(patent_id), ['inventor_id', 'inventor_name_first', 'inventor_name_last', 'male_flag', 'attribution_status']].to_dict('record')\n",
      "/tmp/ipykernel_2804939/2640789341.py:14: FutureWarning: Using short name for 'orient' is deprecated. Only the options: ('dict', list, 'series', 'split', 'records', 'index') will be used in a future version. Use one of the above to silence this warning.\n",
      "  patent_information_dict[patent_id][\"patent_info\"] = HCI_patent_pd.loc[HCI_patent_pd['patent_id']==int(patent_id),['country', 'date', 'abstract', 'title', 'kind', 'num_claims', 'withdrawn', 'assignee_id', 'assignee_name_first', 'assignee_name_last', 'organization']].to_dict('record')\n",
      "/tmp/ipykernel_2804939/2640789341.py:15: FutureWarning: Using short name for 'orient' is deprecated. Only the options: ('dict', list, 'series', 'split', 'records', 'index') will be used in a future version. Use one of the above to silence this warning.\n",
      "  inventor_part = HCI_patent_pd.loc[HCI_patent_pd['patent_id']==int(patent_id), ['inventor_id', 'inventor_name_first', 'inventor_name_last', 'male_flag', 'attribution_status']].to_dict('record')\n",
      "/tmp/ipykernel_2804939/2640789341.py:14: FutureWarning: Using short name for 'orient' is deprecated. Only the options: ('dict', list, 'series', 'split', 'records', 'index') will be used in a future version. Use one of the above to silence this warning.\n",
      "  patent_information_dict[patent_id][\"patent_info\"] = HCI_patent_pd.loc[HCI_patent_pd['patent_id']==int(patent_id),['country', 'date', 'abstract', 'title', 'kind', 'num_claims', 'withdrawn', 'assignee_id', 'assignee_name_first', 'assignee_name_last', 'organization']].to_dict('record')\n",
      "/tmp/ipykernel_2804939/2640789341.py:15: FutureWarning: Using short name for 'orient' is deprecated. Only the options: ('dict', list, 'series', 'split', 'records', 'index') will be used in a future version. Use one of the above to silence this warning.\n",
      "  inventor_part = HCI_patent_pd.loc[HCI_patent_pd['patent_id']==int(patent_id), ['inventor_id', 'inventor_name_first', 'inventor_name_last', 'male_flag', 'attribution_status']].to_dict('record')\n",
      "/tmp/ipykernel_2804939/2640789341.py:14: FutureWarning: Using short name for 'orient' is deprecated. Only the options: ('dict', list, 'series', 'split', 'records', 'index') will be used in a future version. Use one of the above to silence this warning.\n",
      "  patent_information_dict[patent_id][\"patent_info\"] = HCI_patent_pd.loc[HCI_patent_pd['patent_id']==int(patent_id),['country', 'date', 'abstract', 'title', 'kind', 'num_claims', 'withdrawn', 'assignee_id', 'assignee_name_first', 'assignee_name_last', 'organization']].to_dict('record')\n",
      "/tmp/ipykernel_2804939/2640789341.py:15: FutureWarning: Using short name for 'orient' is deprecated. Only the options: ('dict', list, 'series', 'split', 'records', 'index') will be used in a future version. Use one of the above to silence this warning.\n",
      "  inventor_part = HCI_patent_pd.loc[HCI_patent_pd['patent_id']==int(patent_id), ['inventor_id', 'inventor_name_first', 'inventor_name_last', 'male_flag', 'attribution_status']].to_dict('record')\n",
      "/tmp/ipykernel_2804939/2640789341.py:14: FutureWarning: Using short name for 'orient' is deprecated. Only the options: ('dict', list, 'series', 'split', 'records', 'index') will be used in a future version. Use one of the above to silence this warning.\n",
      "  patent_information_dict[patent_id][\"patent_info\"] = HCI_patent_pd.loc[HCI_patent_pd['patent_id']==int(patent_id),['country', 'date', 'abstract', 'title', 'kind', 'num_claims', 'withdrawn', 'assignee_id', 'assignee_name_first', 'assignee_name_last', 'organization']].to_dict('record')\n",
      "/tmp/ipykernel_2804939/2640789341.py:15: FutureWarning: Using short name for 'orient' is deprecated. Only the options: ('dict', list, 'series', 'split', 'records', 'index') will be used in a future version. Use one of the above to silence this warning.\n",
      "  inventor_part = HCI_patent_pd.loc[HCI_patent_pd['patent_id']==int(patent_id), ['inventor_id', 'inventor_name_first', 'inventor_name_last', 'male_flag', 'attribution_status']].to_dict('record')\n"
     ]
    }
   ],
   "source": [
    "HCI_ori_paper_pd.head(5)\n",
    "from icecream import ic\n",
    "HCI_ori_paper_pd[\"patents\"] = \"\"\n",
    "# HCI_ori_paper_pd = HCI_ori_pd.merge(patent_assignee_pd, left_on='paperid', right_on='paperid')\n",
    "# from icecream import ic\n",
    "for index, row in HCI_ori_paper_pd[:100].iterrows():\n",
    "    citing_patent_id = HCI_papercitationscience_pd.loc[HCI_papercitationscience_pd['paperid']==row['mag_id'], 'patent']\n",
    "    if not citing_patent_id.empty:\n",
    "        patent_information_dict = {}\n",
    "        for patent_id in citing_patent_id.values:\n",
    "            # ic(patent_id)\n",
    "            # ic(HCI_patent_pd.loc[HCI_patent_pd['patent_id']==9589072])\n",
    "            patent_information_dict[patent_id] = {}\n",
    "            patent_information_dict[patent_id][\"patent_info\"] = HCI_patent_pd.loc[HCI_patent_pd['patent_id']==int(patent_id),['country', 'date', 'abstract', 'title', 'kind', 'num_claims', 'withdrawn', 'assignee_id', 'assignee_name_first', 'assignee_name_last', 'organization']].to_dict('record')\n",
    "            inventor_part = HCI_patent_pd.loc[HCI_patent_pd['patent_id']==int(patent_id), ['inventor_id', 'inventor_name_first', 'inventor_name_last', 'male_flag', 'attribution_status']].to_dict('record')\n",
    "            patent_information_dict[patent_id][\"inventors\"] = inventor_part\n",
    "        # ic(patent_information_dict)\n",
    "        HCI_ori_paper_pd.at[index,'patents'] = patent_information_dict\n",
    "HCI_ori_paper_pd[:100].to_csv('newHCIdata/paper_patent_all_info.tsv', index=False)    "
   ]
  },
  {
   "cell_type": "code",
   "execution_count": 1,
   "metadata": {},
   "outputs": [
    {
     "name": "stderr",
     "output_type": "stream",
     "text": [
      "/tmp/ipykernel_745147/1934233804.py:7: DtypeWarning: Columns (14,35,36) have mixed types. Specify dtype option on import or set low_memory=False.\n",
      "  HCI_all_pd = pd.read_csv('newHCIdata/paper_patent_all_info_citation_per_record_final.tsv')\n"
     ]
    }
   ],
   "source": [
    "from itertools import chain\n",
    "import pandas as pd\n",
    "import os\n",
    "\n",
    "# paper per record: paper_patent_all_info.tsv\n",
    "# citation per record\n",
    "HCI_all_pd = pd.read_csv('newHCIdata/paper_patent_all_info_citation_per_record_final.tsv')\n",
    "HCI_affiliation_pd = pd.read_csv('newHCIdata/HCI_paper_authorid_affiliation.tsv', sep='\\t')\n",
    "HCI_affiliation_pd = HCI_affiliation_pd.rename(columns={\"paperid\":\"aff_paperid\", \"Affiliation\": \"aff_affiliations\", \"authorid\": \"aff_authorids\"})\n"
   ]
  },
  {
   "cell_type": "code",
   "execution_count": 2,
   "metadata": {},
   "outputs": [],
   "source": [
    "HCI_all_pd = HCI_all_pd.merge(HCI_affiliation_pd, left_on='mag_id', right_on='aff_paperid')\n",
    "HCI_all_pd.to_csv(\"newHCIdata/final_all_HCI_info_citation_per_record.tsv\", index=False)"
   ]
  },
  {
   "cell_type": "code",
   "execution_count": 3,
   "metadata": {},
   "outputs": [
    {
     "data": {
      "text/html": [
       "<div>\n",
       "<style scoped>\n",
       "    .dataframe tbody tr th:only-of-type {\n",
       "        vertical-align: middle;\n",
       "    }\n",
       "\n",
       "    .dataframe tbody tr th {\n",
       "        vertical-align: top;\n",
       "    }\n",
       "\n",
       "    .dataframe thead th {\n",
       "        text-align: right;\n",
       "    }\n",
       "</style>\n",
       "<table border=\"1\" class=\"dataframe\">\n",
       "  <thead>\n",
       "    <tr style=\"text-align: right;\">\n",
       "      <th></th>\n",
       "      <th>Unnamed: 0</th>\n",
       "      <th>paperid_x</th>\n",
       "      <th>patent</th>\n",
       "      <th>mag_id</th>\n",
       "      <th>paperid_y</th>\n",
       "      <th>externalIds</th>\n",
       "      <th>url</th>\n",
       "      <th>title_x</th>\n",
       "      <th>abstract_x</th>\n",
       "      <th>venue</th>\n",
       "      <th>...</th>\n",
       "      <th>inventor_name_last</th>\n",
       "      <th>male_flag</th>\n",
       "      <th>attribution_status</th>\n",
       "      <th>assignee_id</th>\n",
       "      <th>assignee_name_first</th>\n",
       "      <th>assignee_name_last</th>\n",
       "      <th>organization</th>\n",
       "      <th>aff_affiliations</th>\n",
       "      <th>aff_authorids</th>\n",
       "      <th>aff_paperid</th>\n",
       "    </tr>\n",
       "  </thead>\n",
       "  <tbody>\n",
       "    <tr>\n",
       "      <th>0</th>\n",
       "      <td>0</td>\n",
       "      <td>2134161165</td>\n",
       "      <td>10001804</td>\n",
       "      <td>2134161165</td>\n",
       "      <td>7265fc23f282d1e64a6213a48770ba2534345985</td>\n",
       "      <td>{'DBLP': 'conf/chi/RamsteinH94', 'MAG': '21341...</td>\n",
       "      <td>https://www.semanticscholar.org/paper/7265fc23...</td>\n",
       "      <td>The pantograph: a large workspace haptic devic...</td>\n",
       "      <td>A multi-modal user interface taking advantage ...</td>\n",
       "      <td>CHI Conference Companion</td>\n",
       "      <td>...</td>\n",
       "      <td>Conti</td>\n",
       "      <td>1.0</td>\n",
       "      <td>1</td>\n",
       "      <td>49e21a5e-dc31-4177-afb2-a407ce81f752</td>\n",
       "      <td>NaN</td>\n",
       "      <td>NaN</td>\n",
       "      <td>Force Dimension Sarl</td>\n",
       "      <td>['McGill University, Research Centre for Intel...</td>\n",
       "      <td>['2000808029', '2308275767']</td>\n",
       "      <td>2134161165</td>\n",
       "    </tr>\n",
       "    <tr>\n",
       "      <th>1</th>\n",
       "      <td>1</td>\n",
       "      <td>2134161165</td>\n",
       "      <td>10001804</td>\n",
       "      <td>2134161165</td>\n",
       "      <td>7265fc23f282d1e64a6213a48770ba2534345985</td>\n",
       "      <td>{'DBLP': 'conf/chi/RamsteinH94', 'MAG': '21341...</td>\n",
       "      <td>https://www.semanticscholar.org/paper/7265fc23...</td>\n",
       "      <td>The pantograph: a large workspace haptic devic...</td>\n",
       "      <td>A multi-modal user interface taking advantage ...</td>\n",
       "      <td>CHI Conference Companion</td>\n",
       "      <td>...</td>\n",
       "      <td>Helmer</td>\n",
       "      <td>1.0</td>\n",
       "      <td>1</td>\n",
       "      <td>49e21a5e-dc31-4177-afb2-a407ce81f752</td>\n",
       "      <td>NaN</td>\n",
       "      <td>NaN</td>\n",
       "      <td>Force Dimension Sarl</td>\n",
       "      <td>['McGill University, Research Centre for Intel...</td>\n",
       "      <td>['2000808029', '2308275767']</td>\n",
       "      <td>2134161165</td>\n",
       "    </tr>\n",
       "    <tr>\n",
       "      <th>2</th>\n",
       "      <td>2</td>\n",
       "      <td>2134161165</td>\n",
       "      <td>10001804</td>\n",
       "      <td>2134161165</td>\n",
       "      <td>7265fc23f282d1e64a6213a48770ba2534345985</td>\n",
       "      <td>{'DBLP': 'conf/chi/RamsteinH94', 'MAG': '21341...</td>\n",
       "      <td>https://www.semanticscholar.org/paper/7265fc23...</td>\n",
       "      <td>The pantograph: a large workspace haptic devic...</td>\n",
       "      <td>A multi-modal user interface taking advantage ...</td>\n",
       "      <td>CHI Conference Companion</td>\n",
       "      <td>...</td>\n",
       "      <td>Rouiller</td>\n",
       "      <td>1.0</td>\n",
       "      <td>1</td>\n",
       "      <td>49e21a5e-dc31-4177-afb2-a407ce81f752</td>\n",
       "      <td>NaN</td>\n",
       "      <td>NaN</td>\n",
       "      <td>Force Dimension Sarl</td>\n",
       "      <td>['McGill University, Research Centre for Intel...</td>\n",
       "      <td>['2000808029', '2308275767']</td>\n",
       "      <td>2134161165</td>\n",
       "    </tr>\n",
       "    <tr>\n",
       "      <th>3</th>\n",
       "      <td>3</td>\n",
       "      <td>2134161165</td>\n",
       "      <td>10001804</td>\n",
       "      <td>2134161165</td>\n",
       "      <td>7265fc23f282d1e64a6213a48770ba2534345985</td>\n",
       "      <td>{'DBLP': 'conf/chi/RamsteinH94', 'MAG': '21341...</td>\n",
       "      <td>https://www.semanticscholar.org/paper/7265fc23...</td>\n",
       "      <td>The pantograph: a large workspace haptic devic...</td>\n",
       "      <td>A multi-modal user interface taking advantage ...</td>\n",
       "      <td>CHI Conference Companion</td>\n",
       "      <td>...</td>\n",
       "      <td>Grange</td>\n",
       "      <td>1.0</td>\n",
       "      <td>1</td>\n",
       "      <td>49e21a5e-dc31-4177-afb2-a407ce81f752</td>\n",
       "      <td>NaN</td>\n",
       "      <td>NaN</td>\n",
       "      <td>Force Dimension Sarl</td>\n",
       "      <td>['McGill University, Research Centre for Intel...</td>\n",
       "      <td>['2000808029', '2308275767']</td>\n",
       "      <td>2134161165</td>\n",
       "    </tr>\n",
       "    <tr>\n",
       "      <th>4</th>\n",
       "      <td>4</td>\n",
       "      <td>2134161165</td>\n",
       "      <td>6024576</td>\n",
       "      <td>2134161165</td>\n",
       "      <td>7265fc23f282d1e64a6213a48770ba2534345985</td>\n",
       "      <td>{'DBLP': 'conf/chi/RamsteinH94', 'MAG': '21341...</td>\n",
       "      <td>https://www.semanticscholar.org/paper/7265fc23...</td>\n",
       "      <td>The pantograph: a large workspace haptic devic...</td>\n",
       "      <td>A multi-modal user interface taking advantage ...</td>\n",
       "      <td>CHI Conference Companion</td>\n",
       "      <td>...</td>\n",
       "      <td>Rosenberg</td>\n",
       "      <td>1.0</td>\n",
       "      <td>1</td>\n",
       "      <td>bc5be843-80d2-4e51-a19c-b432caa40188</td>\n",
       "      <td>NaN</td>\n",
       "      <td>NaN</td>\n",
       "      <td>IMMERSION CORPORATION</td>\n",
       "      <td>['McGill University, Research Centre for Intel...</td>\n",
       "      <td>['2000808029', '2308275767']</td>\n",
       "      <td>2134161165</td>\n",
       "    </tr>\n",
       "  </tbody>\n",
       "</table>\n",
       "<p>5 rows × 41 columns</p>\n",
       "</div>"
      ],
      "text/plain": [
       "   Unnamed: 0   paperid_x    patent      mag_id  \\\n",
       "0           0  2134161165  10001804  2134161165   \n",
       "1           1  2134161165  10001804  2134161165   \n",
       "2           2  2134161165  10001804  2134161165   \n",
       "3           3  2134161165  10001804  2134161165   \n",
       "4           4  2134161165   6024576  2134161165   \n",
       "\n",
       "                                  paperid_y  \\\n",
       "0  7265fc23f282d1e64a6213a48770ba2534345985   \n",
       "1  7265fc23f282d1e64a6213a48770ba2534345985   \n",
       "2  7265fc23f282d1e64a6213a48770ba2534345985   \n",
       "3  7265fc23f282d1e64a6213a48770ba2534345985   \n",
       "4  7265fc23f282d1e64a6213a48770ba2534345985   \n",
       "\n",
       "                                         externalIds  \\\n",
       "0  {'DBLP': 'conf/chi/RamsteinH94', 'MAG': '21341...   \n",
       "1  {'DBLP': 'conf/chi/RamsteinH94', 'MAG': '21341...   \n",
       "2  {'DBLP': 'conf/chi/RamsteinH94', 'MAG': '21341...   \n",
       "3  {'DBLP': 'conf/chi/RamsteinH94', 'MAG': '21341...   \n",
       "4  {'DBLP': 'conf/chi/RamsteinH94', 'MAG': '21341...   \n",
       "\n",
       "                                                 url  \\\n",
       "0  https://www.semanticscholar.org/paper/7265fc23...   \n",
       "1  https://www.semanticscholar.org/paper/7265fc23...   \n",
       "2  https://www.semanticscholar.org/paper/7265fc23...   \n",
       "3  https://www.semanticscholar.org/paper/7265fc23...   \n",
       "4  https://www.semanticscholar.org/paper/7265fc23...   \n",
       "\n",
       "                                             title_x  \\\n",
       "0  The pantograph: a large workspace haptic devic...   \n",
       "1  The pantograph: a large workspace haptic devic...   \n",
       "2  The pantograph: a large workspace haptic devic...   \n",
       "3  The pantograph: a large workspace haptic devic...   \n",
       "4  The pantograph: a large workspace haptic devic...   \n",
       "\n",
       "                                          abstract_x  \\\n",
       "0  A multi-modal user interface taking advantage ...   \n",
       "1  A multi-modal user interface taking advantage ...   \n",
       "2  A multi-modal user interface taking advantage ...   \n",
       "3  A multi-modal user interface taking advantage ...   \n",
       "4  A multi-modal user interface taking advantage ...   \n",
       "\n",
       "                      venue  ...  inventor_name_last  male_flag  \\\n",
       "0  CHI Conference Companion  ...               Conti        1.0   \n",
       "1  CHI Conference Companion  ...              Helmer        1.0   \n",
       "2  CHI Conference Companion  ...            Rouiller        1.0   \n",
       "3  CHI Conference Companion  ...              Grange        1.0   \n",
       "4  CHI Conference Companion  ...           Rosenberg        1.0   \n",
       "\n",
       "   attribution_status                           assignee_id  \\\n",
       "0                   1  49e21a5e-dc31-4177-afb2-a407ce81f752   \n",
       "1                   1  49e21a5e-dc31-4177-afb2-a407ce81f752   \n",
       "2                   1  49e21a5e-dc31-4177-afb2-a407ce81f752   \n",
       "3                   1  49e21a5e-dc31-4177-afb2-a407ce81f752   \n",
       "4                   1  bc5be843-80d2-4e51-a19c-b432caa40188   \n",
       "\n",
       "  assignee_name_first assignee_name_last           organization  \\\n",
       "0                 NaN                NaN   Force Dimension Sarl   \n",
       "1                 NaN                NaN   Force Dimension Sarl   \n",
       "2                 NaN                NaN   Force Dimension Sarl   \n",
       "3                 NaN                NaN   Force Dimension Sarl   \n",
       "4                 NaN                NaN  IMMERSION CORPORATION   \n",
       "\n",
       "                                    aff_affiliations  \\\n",
       "0  ['McGill University, Research Centre for Intel...   \n",
       "1  ['McGill University, Research Centre for Intel...   \n",
       "2  ['McGill University, Research Centre for Intel...   \n",
       "3  ['McGill University, Research Centre for Intel...   \n",
       "4  ['McGill University, Research Centre for Intel...   \n",
       "\n",
       "                  aff_authorids aff_paperid  \n",
       "0  ['2000808029', '2308275767']  2134161165  \n",
       "1  ['2000808029', '2308275767']  2134161165  \n",
       "2  ['2000808029', '2308275767']  2134161165  \n",
       "3  ['2000808029', '2308275767']  2134161165  \n",
       "4  ['2000808029', '2308275767']  2134161165  \n",
       "\n",
       "[5 rows x 41 columns]"
      ]
     },
     "execution_count": 3,
     "metadata": {},
     "output_type": "execute_result"
    }
   ],
   "source": [
    "HCI_all_pd.head(5)"
   ]
  },
  {
   "cell_type": "code",
   "execution_count": 39,
   "metadata": {},
   "outputs": [],
   "source": [
    "from itertools import chain\n",
    "import pandas as pd\n",
    "import os\n"
   ]
  },
  {
   "cell_type": "code",
   "execution_count": 40,
   "metadata": {},
   "outputs": [],
   "source": [
    "HCI_all_pd = pd.read_csv('newHCIdata/final_all_HCI_info.tsv')"
   ]
  },
  {
   "cell_type": "code",
   "execution_count": 48,
   "metadata": {},
   "outputs": [
    {
     "data": {
      "text/plain": [
       "'fl:st_ln:drucker-3'"
      ]
     },
     "execution_count": 48,
     "metadata": {},
     "output_type": "execute_result"
    }
   ],
   "source": [
    "# text_file = open(\"newHCIdata/debug.txt\", \"w\")\n",
    "# text_file.write(HCI_all_pd[\"patents\"][26303])\n",
    "import json\n",
    "json.loads(json.loads(json.loads(HCI_all_pd[\"patents\"][26303])[\"7134756\"])[\"inventors\"])[0][\"inventor_id\"]"
   ]
  },
  {
   "cell_type": "code",
   "execution_count": 4,
   "metadata": {},
   "outputs": [],
   "source": [
    "HCI_paper_patent_pd = pd.read_csv('newHCIdata/paper_patent_all_info.tsv')"
   ]
  },
  {
   "cell_type": "code",
   "execution_count": 11,
   "metadata": {},
   "outputs": [
    {
     "data": {
      "text/plain": [
       "3"
      ]
     },
     "execution_count": 11,
     "metadata": {},
     "output_type": "execute_result"
    }
   ],
   "source": [
    "text_file = open(\"newHCIdata/debug2.txt\", \"w\")\n",
    "\n",
    "# HCI_paper_patent_pd.loc(HCI_paper_patent_pd[\"paper_id\"] == \"7134756\")[\"patents\"][100]\n",
    "text_file.write(str(HCI_paper_patent_pd[\"patents\"][2]))\n"
   ]
  },
  {
   "cell_type": "code",
   "execution_count": 12,
   "metadata": {},
   "outputs": [],
   "source": [
    "HCI_patent_pd = pd.read_csv('newHCIdata/patent_information_HCI.tsv')\n",
    "HCI_papercitationscience_pd = pd.read_csv('data/papercitationscience_result.tsv')"
   ]
  },
  {
   "cell_type": "code",
   "execution_count": 15,
   "metadata": {},
   "outputs": [
    {
     "data": {
      "text/html": [
       "<div>\n",
       "<style scoped>\n",
       "    .dataframe tbody tr th:only-of-type {\n",
       "        vertical-align: middle;\n",
       "    }\n",
       "\n",
       "    .dataframe tbody tr th {\n",
       "        vertical-align: top;\n",
       "    }\n",
       "\n",
       "    .dataframe thead th {\n",
       "        text-align: right;\n",
       "    }\n",
       "</style>\n",
       "<table border=\"1\" class=\"dataframe\">\n",
       "  <thead>\n",
       "    <tr style=\"text-align: right;\">\n",
       "      <th></th>\n",
       "      <th>Unnamed: 0</th>\n",
       "      <th>reftype</th>\n",
       "      <th>confscore</th>\n",
       "      <th>paperid</th>\n",
       "      <th>patent</th>\n",
       "    </tr>\n",
       "  </thead>\n",
       "  <tbody>\n",
       "    <tr>\n",
       "      <th>0</th>\n",
       "      <td>0</td>\n",
       "      <td>app</td>\n",
       "      <td>9</td>\n",
       "      <td>2134161165</td>\n",
       "      <td>10001804</td>\n",
       "    </tr>\n",
       "    <tr>\n",
       "      <th>1</th>\n",
       "      <td>1</td>\n",
       "      <td>app</td>\n",
       "      <td>9</td>\n",
       "      <td>1967451823</td>\n",
       "      <td>10001885</td>\n",
       "    </tr>\n",
       "  </tbody>\n",
       "</table>\n",
       "</div>"
      ],
      "text/plain": [
       "   Unnamed: 0 reftype  confscore     paperid    patent\n",
       "0           0     app          9  2134161165  10001804\n",
       "1           1     app          9  1967451823  10001885"
      ]
     },
     "execution_count": 15,
     "metadata": {},
     "output_type": "execute_result"
    }
   ],
   "source": [
    "HCI_papercitationscience_pd[:2]"
   ]
  },
  {
   "cell_type": "code",
   "execution_count": null,
   "metadata": {},
   "outputs": [],
   "source": []
  }
 ],
 "metadata": {
  "kernelspec": {
   "display_name": "Python 3.8.0 ('mixer': conda)",
   "language": "python",
   "name": "python3"
  },
  "language_info": {
   "codemirror_mode": {
    "name": "ipython",
    "version": 3
   },
   "file_extension": ".py",
   "mimetype": "text/x-python",
   "name": "python",
   "nbconvert_exporter": "python",
   "pygments_lexer": "ipython3",
   "version": "3.8.0"
  },
  "orig_nbformat": 4,
  "vscode": {
   "interpreter": {
    "hash": "b067056e18d69d2380e6dc5b62d17b439a214bcf514f32d0e4e8dd6f4adc633c"
   }
  }
 },
 "nbformat": 4,
 "nbformat_minor": 2
}
