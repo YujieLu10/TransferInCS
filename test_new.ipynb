{
 "cells": [
  {
   "cell_type": "code",
   "execution_count": 15,
   "metadata": {},
   "outputs": [],
   "source": [
    "from itertools import chain\n",
    "import pandas as pd\n",
    "import os\n",
    "\n",
    "HCI_ori_paper_pd = pd.read_csv('newHCIdata/paperinformation_HCI.tsv')\n",
    "HCI_patent_pd = pd.read_csv('newHCIdata/patent_information_HCI.tsv')\n",
    "HCI_papercitationscience_pd = pd.read_csv('data/papercitationscience_result.tsv')\n",
    "\n",
    "HCI_papercitationscience_pd = HCI_papercitationscience_pd[['paperid','patent']]\n",
    "HCI_patent_pd = HCI_patent_pd[['patent_id', 'country', 'date', 'abstract', 'title', 'kind', 'num_claims', 'withdrawn', 'inventor_id', 'inventor_name_first', 'inventor_name_last', 'male_flag', 'attribution_status', 'assignee_id', 'assignee_name_first', 'assignee_name_last', 'organization']]"
   ]
  },
  {
   "cell_type": "code",
   "execution_count": 31,
   "metadata": {},
   "outputs": [
    {
     "name": "stderr",
     "output_type": "stream",
     "text": [
      "/tmp/ipykernel_2804939/2640789341.py:14: FutureWarning: Using short name for 'orient' is deprecated. Only the options: ('dict', list, 'series', 'split', 'records', 'index') will be used in a future version. Use one of the above to silence this warning.\n",
      "  patent_information_dict[patent_id][\"patent_info\"] = HCI_patent_pd.loc[HCI_patent_pd['patent_id']==int(patent_id),['country', 'date', 'abstract', 'title', 'kind', 'num_claims', 'withdrawn', 'assignee_id', 'assignee_name_first', 'assignee_name_last', 'organization']].to_dict('record')\n",
      "/tmp/ipykernel_2804939/2640789341.py:15: FutureWarning: Using short name for 'orient' is deprecated. Only the options: ('dict', list, 'series', 'split', 'records', 'index') will be used in a future version. Use one of the above to silence this warning.\n",
      "  inventor_part = HCI_patent_pd.loc[HCI_patent_pd['patent_id']==int(patent_id), ['inventor_id', 'inventor_name_first', 'inventor_name_last', 'male_flag', 'attribution_status']].to_dict('record')\n",
      "/tmp/ipykernel_2804939/2640789341.py:14: FutureWarning: Using short name for 'orient' is deprecated. Only the options: ('dict', list, 'series', 'split', 'records', 'index') will be used in a future version. Use one of the above to silence this warning.\n",
      "  patent_information_dict[patent_id][\"patent_info\"] = HCI_patent_pd.loc[HCI_patent_pd['patent_id']==int(patent_id),['country', 'date', 'abstract', 'title', 'kind', 'num_claims', 'withdrawn', 'assignee_id', 'assignee_name_first', 'assignee_name_last', 'organization']].to_dict('record')\n",
      "/tmp/ipykernel_2804939/2640789341.py:15: FutureWarning: Using short name for 'orient' is deprecated. Only the options: ('dict', list, 'series', 'split', 'records', 'index') will be used in a future version. Use one of the above to silence this warning.\n",
      "  inventor_part = HCI_patent_pd.loc[HCI_patent_pd['patent_id']==int(patent_id), ['inventor_id', 'inventor_name_first', 'inventor_name_last', 'male_flag', 'attribution_status']].to_dict('record')\n",
      "/tmp/ipykernel_2804939/2640789341.py:14: FutureWarning: Using short name for 'orient' is deprecated. Only the options: ('dict', list, 'series', 'split', 'records', 'index') will be used in a future version. Use one of the above to silence this warning.\n",
      "  patent_information_dict[patent_id][\"patent_info\"] = HCI_patent_pd.loc[HCI_patent_pd['patent_id']==int(patent_id),['country', 'date', 'abstract', 'title', 'kind', 'num_claims', 'withdrawn', 'assignee_id', 'assignee_name_first', 'assignee_name_last', 'organization']].to_dict('record')\n",
      "/tmp/ipykernel_2804939/2640789341.py:15: FutureWarning: Using short name for 'orient' is deprecated. Only the options: ('dict', list, 'series', 'split', 'records', 'index') will be used in a future version. Use one of the above to silence this warning.\n",
      "  inventor_part = HCI_patent_pd.loc[HCI_patent_pd['patent_id']==int(patent_id), ['inventor_id', 'inventor_name_first', 'inventor_name_last', 'male_flag', 'attribution_status']].to_dict('record')\n",
      "/tmp/ipykernel_2804939/2640789341.py:14: FutureWarning: Using short name for 'orient' is deprecated. Only the options: ('dict', list, 'series', 'split', 'records', 'index') will be used in a future version. Use one of the above to silence this warning.\n",
      "  patent_information_dict[patent_id][\"patent_info\"] = HCI_patent_pd.loc[HCI_patent_pd['patent_id']==int(patent_id),['country', 'date', 'abstract', 'title', 'kind', 'num_claims', 'withdrawn', 'assignee_id', 'assignee_name_first', 'assignee_name_last', 'organization']].to_dict('record')\n",
      "/tmp/ipykernel_2804939/2640789341.py:15: FutureWarning: Using short name for 'orient' is deprecated. Only the options: ('dict', list, 'series', 'split', 'records', 'index') will be used in a future version. Use one of the above to silence this warning.\n",
      "  inventor_part = HCI_patent_pd.loc[HCI_patent_pd['patent_id']==int(patent_id), ['inventor_id', 'inventor_name_first', 'inventor_name_last', 'male_flag', 'attribution_status']].to_dict('record')\n",
      "/tmp/ipykernel_2804939/2640789341.py:14: FutureWarning: Using short name for 'orient' is deprecated. Only the options: ('dict', list, 'series', 'split', 'records', 'index') will be used in a future version. Use one of the above to silence this warning.\n",
      "  patent_information_dict[patent_id][\"patent_info\"] = HCI_patent_pd.loc[HCI_patent_pd['patent_id']==int(patent_id),['country', 'date', 'abstract', 'title', 'kind', 'num_claims', 'withdrawn', 'assignee_id', 'assignee_name_first', 'assignee_name_last', 'organization']].to_dict('record')\n",
      "/tmp/ipykernel_2804939/2640789341.py:15: FutureWarning: Using short name for 'orient' is deprecated. Only the options: ('dict', list, 'series', 'split', 'records', 'index') will be used in a future version. Use one of the above to silence this warning.\n",
      "  inventor_part = HCI_patent_pd.loc[HCI_patent_pd['patent_id']==int(patent_id), ['inventor_id', 'inventor_name_first', 'inventor_name_last', 'male_flag', 'attribution_status']].to_dict('record')\n",
      "/tmp/ipykernel_2804939/2640789341.py:14: FutureWarning: Using short name for 'orient' is deprecated. Only the options: ('dict', list, 'series', 'split', 'records', 'index') will be used in a future version. Use one of the above to silence this warning.\n",
      "  patent_information_dict[patent_id][\"patent_info\"] = HCI_patent_pd.loc[HCI_patent_pd['patent_id']==int(patent_id),['country', 'date', 'abstract', 'title', 'kind', 'num_claims', 'withdrawn', 'assignee_id', 'assignee_name_first', 'assignee_name_last', 'organization']].to_dict('record')\n",
      "/tmp/ipykernel_2804939/2640789341.py:15: FutureWarning: Using short name for 'orient' is deprecated. Only the options: ('dict', list, 'series', 'split', 'records', 'index') will be used in a future version. Use one of the above to silence this warning.\n",
      "  inventor_part = HCI_patent_pd.loc[HCI_patent_pd['patent_id']==int(patent_id), ['inventor_id', 'inventor_name_first', 'inventor_name_last', 'male_flag', 'attribution_status']].to_dict('record')\n"
     ]
    }
   ],
   "source": [
    "HCI_ori_paper_pd.head(5)\n",
    "from icecream import ic\n",
    "HCI_ori_paper_pd[\"patents\"] = \"\"\n",
    "# HCI_ori_paper_pd = HCI_ori_pd.merge(patent_assignee_pd, left_on='paperid', right_on='paperid')\n",
    "# from icecream import ic\n",
    "for index, row in HCI_ori_paper_pd[:100].iterrows():\n",
    "    citing_patent_id = HCI_papercitationscience_pd.loc[HCI_papercitationscience_pd['paperid']==row['mag_id'], 'patent']\n",
    "    if not citing_patent_id.empty:\n",
    "        patent_information_dict = {}\n",
    "        for patent_id in citing_patent_id.values:\n",
    "            # ic(patent_id)\n",
    "            # ic(HCI_patent_pd.loc[HCI_patent_pd['patent_id']==9589072])\n",
    "            patent_information_dict[patent_id] = {}\n",
    "            patent_information_dict[patent_id][\"patent_info\"] = HCI_patent_pd.loc[HCI_patent_pd['patent_id']==int(patent_id),['country', 'date', 'abstract', 'title', 'kind', 'num_claims', 'withdrawn', 'assignee_id', 'assignee_name_first', 'assignee_name_last', 'organization']].to_dict('record')\n",
    "            inventor_part = HCI_patent_pd.loc[HCI_patent_pd['patent_id']==int(patent_id), ['inventor_id', 'inventor_name_first', 'inventor_name_last', 'male_flag', 'attribution_status']].to_dict('record')\n",
    "            patent_information_dict[patent_id][\"inventors\"] = inventor_part\n",
    "        # ic(patent_information_dict)\n",
    "        HCI_ori_paper_pd.at[index,'patents'] = patent_information_dict\n",
    "HCI_ori_paper_pd[:100].to_csv('newHCIdata/paper_patent_all_info.tsv', index=False)    "
   ]
  },
  {
   "cell_type": "code",
   "execution_count": 37,
   "metadata": {},
   "outputs": [],
   "source": [
    "from itertools import chain\n",
    "import pandas as pd\n",
    "import os\n",
    "\n",
    "HCI_all_pd = pd.read_csv('newHCIdata/paper_patent_all_info.tsv')\n",
    "HCI_affiliation_pd = pd.read_csv('newHCIdata/HCI_paper_authorid_affiliation.tsv', sep='\\t')\n",
    "HCI_affiliation_pd = HCI_affiliation_pd.rename(columns={\"paperid\":\"aff_paperid\", \"Affiliation\": \"aff_affiliations\", \"authorid\": \"aff_authorids\"})\n"
   ]
  },
  {
   "cell_type": "code",
   "execution_count": 38,
   "metadata": {},
   "outputs": [],
   "source": [
    "HCI_all_pd = HCI_all_pd.merge(HCI_affiliation_pd, left_on='mag_id', right_on='aff_paperid')\n",
    "HCI_all_pd.to_csv(\"newHCIdata/final_all_HCI_info.tsv\", index=False)"
   ]
  },
  {
   "cell_type": "code",
   "execution_count": 39,
   "metadata": {},
   "outputs": [],
   "source": [
    "from itertools import chain\n",
    "import pandas as pd\n",
    "import os\n"
   ]
  },
  {
   "cell_type": "code",
   "execution_count": 40,
   "metadata": {},
   "outputs": [],
   "source": [
    "HCI_all_pd = pd.read_csv('newHCIdata/final_all_HCI_info.tsv')"
   ]
  },
  {
   "cell_type": "code",
   "execution_count": 44,
   "metadata": {},
   "outputs": [
    {
     "data": {
      "text/plain": [
       "'['"
      ]
     },
     "execution_count": 44,
     "metadata": {},
     "output_type": "execute_result"
    }
   ],
   "source": [
    "# text_file = open(\"newHCIdata/debug.txt\", \"w\")\n",
    "# text_file.write(HCI_all_pd[\"patents\"][26303])\n",
    "import json\n",
    "json.loads(json.loads(HCI_all_pd[\"patents\"][26303])[\"7134756\"])[\"inventors\"]"
   ]
  },
  {
   "cell_type": "code",
   "execution_count": 4,
   "metadata": {},
   "outputs": [],
   "source": [
    "HCI_paper_patent_pd = pd.read_csv('newHCIdata/paper_patent_all_info.tsv')"
   ]
  },
  {
   "cell_type": "code",
   "execution_count": 11,
   "metadata": {},
   "outputs": [
    {
     "data": {
      "text/plain": [
       "3"
      ]
     },
     "execution_count": 11,
     "metadata": {},
     "output_type": "execute_result"
    }
   ],
   "source": [
    "text_file = open(\"newHCIdata/debug2.txt\", \"w\")\n",
    "\n",
    "# HCI_paper_patent_pd.loc(HCI_paper_patent_pd[\"paper_id\"] == \"7134756\")[\"patents\"][100]\n",
    "text_file.write(str(HCI_paper_patent_pd[\"patents\"][2]))\n"
   ]
  },
  {
   "cell_type": "code",
   "execution_count": 12,
   "metadata": {},
   "outputs": [],
   "source": [
    "HCI_patent_pd = pd.read_csv('newHCIdata/patent_information_HCI.tsv')\n",
    "HCI_papercitationscience_pd = pd.read_csv('data/papercitationscience_result.tsv')"
   ]
  },
  {
   "cell_type": "code",
   "execution_count": 15,
   "metadata": {},
   "outputs": [
    {
     "data": {
      "text/html": [
       "<div>\n",
       "<style scoped>\n",
       "    .dataframe tbody tr th:only-of-type {\n",
       "        vertical-align: middle;\n",
       "    }\n",
       "\n",
       "    .dataframe tbody tr th {\n",
       "        vertical-align: top;\n",
       "    }\n",
       "\n",
       "    .dataframe thead th {\n",
       "        text-align: right;\n",
       "    }\n",
       "</style>\n",
       "<table border=\"1\" class=\"dataframe\">\n",
       "  <thead>\n",
       "    <tr style=\"text-align: right;\">\n",
       "      <th></th>\n",
       "      <th>Unnamed: 0</th>\n",
       "      <th>reftype</th>\n",
       "      <th>confscore</th>\n",
       "      <th>paperid</th>\n",
       "      <th>patent</th>\n",
       "    </tr>\n",
       "  </thead>\n",
       "  <tbody>\n",
       "    <tr>\n",
       "      <th>0</th>\n",
       "      <td>0</td>\n",
       "      <td>app</td>\n",
       "      <td>9</td>\n",
       "      <td>2134161165</td>\n",
       "      <td>10001804</td>\n",
       "    </tr>\n",
       "    <tr>\n",
       "      <th>1</th>\n",
       "      <td>1</td>\n",
       "      <td>app</td>\n",
       "      <td>9</td>\n",
       "      <td>1967451823</td>\n",
       "      <td>10001885</td>\n",
       "    </tr>\n",
       "  </tbody>\n",
       "</table>\n",
       "</div>"
      ],
      "text/plain": [
       "   Unnamed: 0 reftype  confscore     paperid    patent\n",
       "0           0     app          9  2134161165  10001804\n",
       "1           1     app          9  1967451823  10001885"
      ]
     },
     "execution_count": 15,
     "metadata": {},
     "output_type": "execute_result"
    }
   ],
   "source": [
    "HCI_papercitationscience_pd[:2]"
   ]
  },
  {
   "cell_type": "code",
   "execution_count": null,
   "metadata": {},
   "outputs": [],
   "source": []
  }
 ],
 "metadata": {
  "kernelspec": {
   "display_name": "Python 3.8.0 ('mixer': conda)",
   "language": "python",
   "name": "python3"
  },
  "language_info": {
   "codemirror_mode": {
    "name": "ipython",
    "version": 3
   },
   "file_extension": ".py",
   "mimetype": "text/x-python",
   "name": "python",
   "nbconvert_exporter": "python",
   "pygments_lexer": "ipython3",
   "version": "3.8.0"
  },
  "orig_nbformat": 4,
  "vscode": {
   "interpreter": {
    "hash": "b067056e18d69d2380e6dc5b62d17b439a214bcf514f32d0e4e8dd6f4adc633c"
   }
  }
 },
 "nbformat": 4,
 "nbformat_minor": 2
}
